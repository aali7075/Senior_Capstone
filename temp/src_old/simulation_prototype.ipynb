{
  "nbformat": 4,
  "nbformat_minor": 0,
  "metadata": {
    "kernelspec": {
      "display_name": "Python 3 (ipykernel)",
      "language": "python",
      "name": "python3"
    },
    "language_info": {
      "codemirror_mode": {
        "name": "ipython",
        "version": 3
      },
      "file_extension": ".py",
      "mimetype": "text/x-python",
      "name": "python",
      "nbconvert_exporter": "python",
      "pygments_lexer": "ipython3",
      "version": "3.9.7"
    },
    "colab": {
      "name": "simulation_prototype.ipynb",
      "provenance": [],
      "collapsed_sections": []
    }
  },
  "cells": [
    {
      "cell_type": "markdown",
      "metadata": {
        "pycharm": {
          "name": "#%%\n"
        },
        "tags": [],
        "id": "MXsmQt88RyPz"
      },
      "source": [
        "**Team 24 -- Quantum Sensor Lab -- Development of a Magnetic Field Steering System**\n",
        "\n",
        "Andrew Fine - Project Manager\n",
        "\n",
        "Trevor Peterson - Logistics Manager\n",
        "\n",
        "Steven Coyan - System Engineer\n",
        "\n",
        "Nate Howard - Software Engineer\n",
        "\n",
        "Nick Elsasser - Software Engineer\n",
        "\n",
        "Aaron Li - Software Engineer\n",
        "\n",
        "Cole Sites - CAD Engineer/Finance Manager\n",
        "\n",
        "Dean Allison - Manufacturing Engineer\n",
        "\n",
        "Thomas Brewster - Test Engineer \n",
        "\n",
        "---\n",
        "\n",
        "Questions:\n",
        "\n",
        "1) How do the coil numbers, sizes, positions, and currents interact to create a magnetic field and how can they be manipulated to change the field?\n",
        "\n",
        "2) Can we simulate the magnetic field fast enough to test PID control loops in real time?\n",
        "\n",
        "Ideas:\n",
        "\n",
        "Implement a basic magnetic field simulation with some simplifying assumptions to get a baseline for how the main coil properties interact with one another to create a magnetic field and also to get a sense of how long it takes to query for the magnetic field at a given (x, y, z). Our simulation is based off of the equations from a paper provided to us by our client. We  also want to be able to take slices of the magnetic field to visualize how the field is created from the coils."
      ]
    },
    {
      "cell_type": "code",
      "metadata": {
        "id": "AH02UzA_RyP3"
      },
      "source": [
        "import numpy as np\n",
        "import matplotlib.pyplot as plt\n",
        "import seaborn as sns\n",
        "from time import perf_counter_ns"
      ],
      "execution_count": 2,
      "outputs": []
    },
    {
      "cell_type": "code",
      "metadata": {
        "jupyter": {
          "outputs_hidden": false
        },
        "pycharm": {
          "name": "#%%\n"
        },
        "id": "8E0VT-IPRyP6"
      },
      "source": [
        "#\n",
        "# Simulation follows an implementation of:\n",
        "#\n",
        "# Equations for the Magnetic Field Produced by One\n",
        "# or More Rectangular Loops of Wire in the Same Plane - Misakian\n",
        "#\n",
        "# https://tsapps.nist.gov/publication/get_pdf.cfm?pub_id=10634\n",
        "#\n",
        "#\n",
        "\n",
        "#\n",
        "# Define helper functions\n",
        "#\n",
        "\n",
        "r1 = lambda x, y, z, a1, b1, z0: np.sqrt((a1 + x) ** 2 + (y + b1) ** 2 + (z - z0) ** 2)\n",
        "r2 = lambda x, y, z, a1, b1, z0: np.sqrt((a1 - x) ** 2 + (y + b1) ** 2 + (z - z0) ** 2)\n",
        "r3 = lambda x, y, z, a1, b1, z0: np.sqrt((a1 - x) ** 2 + (y - b1) ** 2 + (z - z0) ** 2)\n",
        "r4 = lambda x, y, z, a1, b1, z0: np.sqrt((a1 + x) ** 2 + (y - b1) ** 2 + (z - z0) ** 2)\n",
        "\n",
        "d1 = lambda x, y, z, a1, b1, z0: y + b1\n",
        "d2 = lambda x, y, z, a1, b1, z0: y + b1\n",
        "d3 = lambda x, y, z, a1, b1, z0: y - b1\n",
        "d4 = lambda x, y, z, a1, b1, z0: y - b1\n",
        "\n",
        "c1 = lambda x, y, z, a1, b1, z0: a1 + x\n",
        "c2 = lambda x, y, z, a1, b1, z0: a1 - x\n",
        "c3 = lambda x, y, z, a1, b1, z0: -a1 + x\n",
        "c4 = lambda x, y, z, a1, b1, z0: -a1 - x\n",
        "\n",
        "def _eval_r(x, y, z, a1, b1, z0):\n",
        "    return (r1(x, y, z, a1, b1, z0), r2(x, y, z, a1, b1, z0),\n",
        "            r3(x, y, z, a1, b1, z0), r4(x, y, z, a1, b1, z0))\n",
        "\n",
        "\n",
        "def _eval_d(x, y, z, a1, b1, z0):\n",
        "    return (d1(x, y, z, a1, b1, z0), d2(x, y, z, a1, b1, z0),\n",
        "            d3(x, y, z, a1, b1, z0), d4(x, y, z, a1, b1, z0))\n",
        "\n",
        "\n",
        "def _eval_c(x, y, z, a1, b1, z0):\n",
        "    return (c1(x, y, z, a1, b1, z0), c2(x, y, z, a1, b1, z0),\n",
        "            c3(x, y, z, a1, b1, z0), c4(x, y, z, a1, b1, z0))"
      ],
      "execution_count": 3,
      "outputs": []
    },
    {
      "cell_type": "code",
      "metadata": {
        "jupyter": {
          "outputs_hidden": false
        },
        "pycharm": {
          "name": "#%%\n"
        },
        "id": "zxuJMXdKRyP6"
      },
      "source": [
        "# Magnetic permeability constant\n",
        "MU_0 = 4 * np.pi * 1.0e-7\n",
        "\n",
        "#\n",
        "# Define field component equations, B = <Bx, By, Bz>\n",
        "#\n",
        "\n",
        "def Bx(x, y, z, a1, b1, z0, N):\n",
        "    \"\"\"\n",
        "    Magnetic flux density in X direction at point (x, y, z) for a\n",
        "    coil of size 2*a1, 2*b1 residing on the x, y plane defined by z0\n",
        "\n",
        "    :param x: x location\n",
        "    :param y: y location\n",
        "    :param z: z location\n",
        "    :param a1: (half of) coil side length A\n",
        "    :param b1: (half of) coil side length B\n",
        "    :param z0: Distance of coil from origin\n",
        "    :param N: Current\n",
        "\n",
        "    :return: Magnetic flux density\n",
        "    \"\"\"\n",
        "\n",
        "    _k = 100.0 * MU_0 * N / (4 * np.pi)\n",
        "    _z = z - z0\n",
        "    _r = _eval_r(x, y, z, a1, b1, z0)\n",
        "    _d = _eval_d(x, y, z, a1, b1, z0)\n",
        "\n",
        "    return _k * np.sum([(-1**i) * _z / (_r[i] * (_r[i] + _d[i]))\n",
        "                        for i in range(4)], axis=0)\n",
        "\n",
        "def By(x, y, z, a1, b1, z0, N):\n",
        "    \"\"\"\n",
        "    Magnetic flux density in Y direction at point (x, y, z) for a\n",
        "    coil of size 2*a1, 2*b1 residing on the x, y plane defined by z0\n",
        "\n",
        "    :param x: x location\n",
        "    :param y: y location\n",
        "    :param z: z location\n",
        "    :param a1: (half of) coil side length A\n",
        "    :param b1: (half of) coil side length B\n",
        "    :param z0: Distance of coil from origin\n",
        "    :param N: Current\n",
        "\n",
        "    :return: Magnetic flux density\n",
        "    \"\"\"\n",
        "\n",
        "    _k = 100.0 * MU_0 * N / (4 * np.pi)\n",
        "    _z = z - z0\n",
        "\n",
        "    _r = _eval_r(x, y, z, a1, b1, z0)\n",
        "    _c = _eval_c(x, y, z, a1, b1, z0)\n",
        "\n",
        "    return _k * np.sum([(-1**i) * _z / (_r[i] * (_r[i] + (-1**i) * _c[i]))\n",
        "                        for i in range(4)], axis=0)\n",
        "\n",
        "def Bz(x, y, z, a1, b1, z0, N):\n",
        "    \"\"\"\n",
        "    Magnetic flux density in Z direction at point (x, y, z) for a\n",
        "    coil of size 2*a1, 2*b1 residing on the x, y plane defined by z0\n",
        "\n",
        "    :param x: x location\n",
        "    :param y: y location\n",
        "    :param z: z location\n",
        "    :param a1: (half of) coil side length A\n",
        "    :param b1: (half of) coil side length B\n",
        "    :param z0: Distance of coil from origin\n",
        "    :param N: Current\n",
        "\n",
        "    :return: Magnetic flux density\n",
        "    \"\"\"\n",
        "\n",
        "    _k = 100.0 * 1e6 * MU_0 * N / (4 * np.pi)\n",
        "\n",
        "    # compute each sub-function once and store result\n",
        "    _r = _eval_r(x, y, z, a1, b1, z0)\n",
        "    _d = _eval_d(x, y, z, a1, b1, z0)\n",
        "    _c = _eval_c(x, y, z, a1, b1, z0)\n",
        "\n",
        "    # return constant * inner sum of various function combinations\n",
        "    # tried to keep things clean, or at least cleaner than the original mathematica code\n",
        "\n",
        "    return _k * np.sum([((-1**(i+1))*_d[i] / (_r[i] * (_r[i] + (-1**i)*_c[i]))) -\n",
        "                        (_c[i] / (_r[i] * (_r[i] - _d[i]))) for i in range(4)], axis=0)"
      ],
      "execution_count": 17,
      "outputs": []
    },
    {
      "cell_type": "code",
      "metadata": {
        "jupyter": {
          "outputs_hidden": false
        },
        "pycharm": {
          "name": "#%%\n"
        },
        "id": "SVxxGMMiRyP8"
      },
      "source": [
        "def get_coil_coordinates(a1, b1, s, N, x, y):\n",
        "    \"\"\"\n",
        "    Get the (x, y) coordinates for the center of the NxN grid of rectangles\n",
        "    so they satisfy the distances set by the rectangle width, height, and spacing.\n",
        "    The coils are positioned such that their combined center is at x, y\n",
        "\n",
        "    :param a1: Rectangle width (x-direction) (cm)\n",
        "    :param b1: Rectangle height (y-direction) (cm)\n",
        "    :param s: Spacing between rectangles (cm)\n",
        "    :param N: Number of rectangles\n",
        "    :param x: x position of rectangle's center\n",
        "    :param y: y position of rectangle's center\n",
        "\n",
        "    :return: np.meshgrid in ij format of each coil's center for NxN grid\n",
        "    \"\"\"\n",
        "\n",
        "    f = lambda x: (s * (N-1) + 2 * x * (N-1)) / 2.0\n",
        "\n",
        "    f_a1, f_b1 = f(a1), f(b1)\n",
        "    xx = np.linspace(-1.0 * f_a1, f_a1, num=N) + x\n",
        "    yy = np.linspace(-1.0 * f_b1, f_b1, num=N) + y\n",
        "\n",
        "    return np.meshgrid(xx, yy)\n",
        "\n",
        "def get_field(x, y, z, a1, b1, z0, current, num_coils, coil_spacing):\n",
        "    \"\"\"\n",
        "    Compute the magnetic field at (x, y, z) created by N^2 coils on plane z0 arranged in \n",
        "    an NxN grid with equal spacing and current\n",
        "\n",
        "    :param x: x coordinate to query (cm)\n",
        "    :param y: y coordinate to query (cm)\n",
        "    :param z: z coordinate to query (cm)\n",
        "    :param a1: Half of the rectangle width (cm)\n",
        "    :param b1: Half of the rectangle height (cm)\n",
        "    :param z0: z coordinate plane goes through\n",
        "    :param current: Current through all coils\n",
        "    :param num_coils: Number of coils per row in grid, total coils is NxN\n",
        "    :param coil_spacing: Spacing between coils (cm)\n",
        "\n",
        "    :return: np.array containing the field x, y, z components in that order\n",
        "    \"\"\"\n",
        "    xx, yy = get_coil_coordinates(a1, b1, coil_spacing, num_coils, x, y)\n",
        "\n",
        "    bx, by, bz = None, None, None\n",
        "    for i in range(num_coils):\n",
        "        for j in range(num_coils):\n",
        "            if bx is None:\n",
        "                bx = Bx(xx[i, j], yy[i, j], z, a1, b1, z0, current[i + j*num_coils])\n",
        "            else:\n",
        "                bx += Bx(xx[i, j], yy[i, j], z, a1, b1, z0, current[i + j*num_coils])\n",
        "\n",
        "            if by is None:\n",
        "                by = By(xx[i, j], yy[i, j], z, a1, b1, z0, current[i + j*num_coils])\n",
        "            else:\n",
        "                by += By(xx[i, j], yy[i, j], z, a1, b1, z0, current[i + j*num_coils])\n",
        "\n",
        "            if bz is None:\n",
        "                bz = Bz(xx[i, j], yy[i, j], z, a1, b1, z0, current[i + j*num_coils])\n",
        "            else:\n",
        "                bz += Bz(xx[i, j], yy[i, j], z, a1, b1, z0, current[i + j*num_coils])\n",
        "\n",
        "    return np.array([bx, by, bz])\n",
        "\n",
        "def overlay_coils(a1, b1, num_coils, coil_spacing, unit, ax):\n",
        "    \"\"\"\n",
        "    Overlay where the coils would be on the x, y plane in the magnetic field plot\n",
        "\n",
        "    :param a1: half of the coil width (cm)\n",
        "    :param b1: half of the coil height (cm)\n",
        "    :param num_coils: Number of coils per row\n",
        "    :param coil_spacing: Spacing between coils (cm)\n",
        "    :param unit: Conversion between cm and matplotlib pixel units\n",
        "    :param ax: matplotlib graph to apply overlay to\n",
        "    \"\"\"\n",
        "\n",
        "    # convert coil sizes to matplotlib units\n",
        "    a1 *= unit\n",
        "    b1 *= unit\n",
        "    coil_spacing *= unit\n",
        "\n",
        "    f = lambda x: (coil_spacing * (num_coils - 1) + 2 * x * (num_coils - 1)) / 2.0\n",
        "\n",
        "    f_a1, f_b1 = f(a1), f(b1)\n",
        "\n",
        "    # shift up and over s.t. we have the top left corner of each coil\n",
        "    xp = np.linspace(-1.0 * f_a1 + 50, f_a1 + 50, num=num_coils) - a1\n",
        "    yp = np.linspace(-1.0 * f_b1 + 50, f_b1 + 50, num=num_coils) - b1\n",
        "    xx, yy = np.meshgrid(xp, yp)\n",
        "    for i in range(num_coils):\n",
        "        for j in range(num_coils):\n",
        "            px, py = xx[i, j], yy[i, j]\n",
        "            print(px, py, 2*a1, 2*b1)\n",
        "            rect = plt.Rectangle((px, py), 2*a1, 2*b1, fc='none', ec='green', lw=2.0, alpha=0.75)\n",
        "            ax.add_patch(rect)\n",
        "\n",
        "def overlay_coilsY(a1, b1, num_coils, coil_spacing, unit, ax):\n",
        "    # convert coil sizes to matplotlib units\n",
        "    a1 *= unit\n",
        "    b1 *= unit\n",
        "    coil_spacing *= unit\n",
        "\n",
        "    f = lambda x: (coil_spacing * (num_coils - 1) + 2 * x * (num_coils - 1)) / 2.0\n",
        "\n",
        "    f_a1, f_b1 = f(a1), f(b1)\n",
        "\n",
        "    # shift up and over s.t. we have the top left corner of each coil\n",
        "    xp = np.linspace(-1.0 * f_a1 + 50, f_a1 + 50, num=num_coils) - a1\n",
        "    yp = np.linspace(-1.0 * f_b1 + 50, f_b1 + 50, num=num_coils) - b1\n",
        "    xx, yy = np.meshgrid(xp, yp)\n",
        "    for i in range(num_coils):\n",
        "        for j in range(num_coils):\n",
        "            if i==1:\n",
        "                continue\n",
        "            px, py = xx[i, j], yy[i, j]\n",
        "            #print(px, py, 2*a1, 2*b1)\n",
        "            rect = plt.Rectangle((px, py+(2*unit)),2*a1,.5, fc='none', ec='green', lw=2.0, alpha=0.75)\n",
        "            ax.add_patch(rect)\n",
        "\n",
        "def overlay_coilsX(a1, b1, num_coils, coil_spacing, unit, ax):\n",
        "    # convert coil sizes to matplotlib units\n",
        "    a1 *= unit\n",
        "    b1 *= unit\n",
        "    coil_spacing *= unit\n",
        "\n",
        "    f = lambda x: (coil_spacing * (num_coils - 1) + 2 * x * (num_coils - 1)) / 2.0\n",
        "\n",
        "    f_a1, f_b1 = f(a1), f(b1)\n",
        "\n",
        "    # shift up and over s.t. we have the top left corner of each coil\n",
        "    xp = np.linspace(-1.0 * f_a1 + 50, f_a1 + 50, num=num_coils) - a1\n",
        "    yp = np.linspace(-1.0 * f_b1 + 50, f_b1 + 50, num=num_coils) - b1\n",
        "    xx, yy = np.meshgrid(xp, yp)\n",
        "    for i in range(num_coils):\n",
        "        for j in range(num_coils):\n",
        "            if j==1:\n",
        "                continue\n",
        "            px, py = xx[i, j], yy[i, j]\n",
        "            #print(px, py, 2*a1, 2*b1)\n",
        "            rect = plt.Rectangle((px+(2*unit), py), .5, 2*b1, fc='none', ec='green', lw=2.0, alpha=0.75)\n",
        "            ax.add_patch(rect)\n",
        "            \n",
        "def create_field_wall(a1, b1, I_wall_1, I_wall_2, spacing, N, wall_spacing, val, const='z'):\n",
        "    # define some random constants to plot\n",
        "    axis_1 = np.linspace(-10, 10, num=100)\n",
        "    axis_2 = np.linspace(-10, 10, num=100)\n",
        "\n",
        "    assert len(I_wall_1) == N * N\n",
        "    assert len(I_wall_2) == N * N\n",
        "\n",
        "    # A1 and B1 are (half of) the rectangle length and width\n",
        "    A1, B1, I, spacing = 2, 2, 1, 1.0\n",
        "\n",
        "    GRID = N\n",
        "    xx, yy = get_coil_coordinates(A1, B1, spacing, GRID, 0, 0)\n",
        "    size = max((GRID-1), 1) * A1 * spacing * 2\n",
        "\n",
        "    grid = np.zeros((100, 100))\n",
        "\n",
        "    field_axis1 = np.linspace(-size, size, 100)\n",
        "    field_axis2 = np.linspace(-size, size, 100)\n",
        "\n",
        "    unit = 100 / (2*size) # convert cm grid (2*size x 2*size) to matplotlib unit grid (100x100 plot)\n",
        "    for i, ax1 in enumerate(field_axis1):\n",
        "        for j, ax2 in enumerate(field_axis2):\n",
        "            # get the magnitude of the field at each x, y\n",
        "            if const == 'z':\n",
        "              _b1 = get_field(ax1, ax2, val, A1, B1, wall_spacing, I_wall_1, GRID, spacing)\n",
        "              grid[i, j] = np.linalg.norm(_b1, axis=0)\n",
        "\n",
        "    return grid\n",
        "\n",
        "\n",
        "def plot_field(grid, val, A1, B1, GRID, spacing, unit, axis_1, axis_2, field_axis_1, field_axis_2):\n",
        "    # plot the grid\n",
        "    xticks = ['' if i % 10 else f'{axis_1[i]:.2f}' \n",
        "              for i in range(len(field_axis1))][:-1] + [field_axis1[-1]]\n",
        "    yticks = ['' if i % 10 else f'{axis_2[i]:.2f}' \n",
        "              for i in range(len(field_axis2))][:-1] + [field_axis2[-1]]\n",
        "    ax = sns.heatmap(grid, xticklabels=xticks, yticklabels=yticks)\n",
        "    \n",
        "    if const == 'z':\n",
        "        overlay_coils(A1, B1, GRID, spacing, unit, ax)\n",
        "\n",
        "        plt.title(f'Magnetic Field Magnitude (nT) of a {GRID}x{GRID} of Coils at Z={val}cm.')\n",
        "        plt.xlabel('X position (cm)')\n",
        "        plt.ylabel('Y position (cm)')\n",
        "\n",
        "        plt.show()"
      ],
      "execution_count": 67,
      "outputs": []
    },
    {
      "cell_type": "code",
      "metadata": {
        "colab": {
          "base_uri": "https://localhost:8080/"
        },
        "id": "-ZHfG1guRyP8",
        "outputId": "6b56bbe3-a24d-4d46-a4de-ecc24718b057"
      },
      "source": [
        "# Define parameters for our simulation that are similar to our actual parameters (so far)\n",
        "\n",
        "# wall size\n",
        "wall_size = 160.0 # cm\n",
        "\n",
        "# number of coils\n",
        "N = 1\n",
        "\n",
        "spacing = 10.0 # cm\n",
        "\n",
        "# square coils, 4x4 grid taking up 1.6m x 1.6m, 160 / 4 - spacing * 3 = \n",
        "a1 = (wall_size / N) - (spacing * (N-1)) # cm\n",
        "b1 = a1 # cm\n",
        "\n",
        "# 1.4m of separation, let the origin be directly at the center\n",
        "sep = 140.0 # cm\n",
        "z_wall_1 = sep / 2.0 # cm\n",
        "z_wall_2 = -z_wall_1 # cm\n",
        "\n",
        "# for now have the current be exactly the same for all coils\n",
        "I = np.repeat(1.0, N) # Amps\n",
        "\n",
        "# time querying field between the walls at 0, 0, 0\n",
        "s = perf_counter_ns()\n",
        "B = get_field(0, 0, 0, a1, b1, z_wall_1, I, N, spacing) + get_field(0, 0, 0, a1, b1, z_wall_2, -I, N, spacing)\n",
        "e = perf_counter_ns() - s\n",
        "print(f'Time to query field: {e/1e6:.2f} milliseconds')"
      ],
      "execution_count": 68,
      "outputs": [
        {
          "output_type": "stream",
          "name": "stdout",
          "text": [
            "Time to query field: 0.93 milliseconds\n"
          ]
        }
      ]
    },
    {
      "cell_type": "code",
      "metadata": {
        "colab": {
          "base_uri": "https://localhost:8080/",
          "height": 786
        },
        "id": "lgbetUlOUvMx",
        "outputId": "ef151aa5-dfb3-4cf1-e253-dd315d8b03bc"
      },
      "source": [
        "z = np.linspace(z_wall_2, z_wall_1)\n",
        "_b = get_field(0, 0, z, a1, b1, z_wall_1, I, N, spacing) + get_field(0, 0, z, a1, b1, z_wall_2, -I, N, spacing)\n",
        "plt.plot(z, _b[0], label='x')\n",
        "plt.show()\n",
        "plt.plot(z, _b[1], label='y')\n",
        "plt.show()\n",
        "plt.plot(z, _b[2], label='z')\n",
        "plt.show()"
      ],
      "execution_count": 79,
      "outputs": [
        {
          "output_type": "display_data",
          "data": {
            "image/png": "[encoded data removed]",
            "text/plain": [
              "<Figure size 432x288 with 1 Axes>"
            ]
          },
          "metadata": {
            "needs_background": "light"
          }
        },
        {
          "output_type": "display_data",
          "data": {
            "image/png": "[encoded data removed]",
            "text/plain": [
              "<Figure size 432x288 with 1 Axes>"
            ]
          },
          "metadata": {
            "needs_background": "light"
          }
        },
        {
          "output_type": "display_data",
          "data": {
            "image/png": "[encoded data removed]",
            "text/plain": [
              "<Figure size 432x288 with 1 Axes>"
            ]
          },
          "metadata": {
            "needs_background": "light"
          }
        }
      ]
    },
    {
      "cell_type": "code",
      "metadata": {
        "colab": {
          "base_uri": "https://localhost:8080/",
          "height": 335
        },
        "id": "C5rJxQGVXezS",
        "outputId": "0003f941-803a-427d-960b-07497d9905af"
      },
      "source": [
        "create_field(a1, b1, np.repeat(I, N*N), -1.0 * np.repeat(I, N*N), spacing, N, sep, val=0)\n"
      ],
      "execution_count": 71,
      "outputs": [
        {
          "output_type": "stream",
          "name": "stdout",
          "text": [
            "25.0 25.0 50.0 50.0\n"
          ]
        },
        {
          "output_type": "display_data",
          "data": {
            "image/png": "[encoded data removed]",
            "text/plain": [
              "<Figure size 432x288 with 2 Axes>"
            ]
          },
          "metadata": {
            "needs_background": "light"
          }
        }
      ]
    },
    {
      "cell_type": "markdown",
      "metadata": {
        "id": "dDw_hea0RyP_"
      },
      "source": [
        "Insights gained from prototype:\n",
        "\n",
        "1) With a simulation we are easily able to see how the variable coil parameters interact with each other to create the magnetic field. As our design changes we can change our simulation to follow and quickly see how any changes would impact the overall performance of magnetic field generation.\n",
        "\n",
        "2) We also see that our simulation provides a good first step to simulating and testing our PID loops as it only takes a couple milliseconds to query one point in the field. We are also able to visualize our magnetic fields and coils through our simulation. Given better parallization of the code we may be able to speed up the visualizations to near real time, and we are also looking into full 3d visualizations of the coils and magnetic field as a next step for the simulation."
      ]
    },
    {
      "cell_type": "code",
      "metadata": {
        "pycharm": {
          "name": "#%%\n"
        },
        "id": "fQU5I3ObRyP_"
      },
      "source": [
        "def get_b_matrix(x, y, z, coil_spacing, a1, b1, wall_spacing, N):\n",
        "  B_hat = np.zeros((3, N*N*2))\n",
        "\n",
        "\n",
        "  # row 1 is the x field (I=1.0) for each coil 0...N*N*2. The first N*N entries\n",
        "  # are the first wall coils, last N*N are the second wall coils.\n",
        "  # Same idea for rows 2 and 3 :)\n",
        "\n",
        "  xx, yy = get_coil_coordinates(a1, b1, coil_spacing, N, x, y)\n",
        "  z0 = wall_spacing / 2.0\n",
        "  for i in range(N*N*2):\n",
        "    _z0 = -z0 if i < N*N else z0 # get correct wall for the coil number\n",
        "    _i, _j = (i // N) % N, (i % N) % N # get correct indices\n",
        "\n",
        "    # current = 1.0 as placeholder since solving for current\n",
        "    B_hat[0, i] = Bx(xx[_i, _j], yy[_i, _j], z, a1, b1, _z0, 1.0)\n",
        "    B_hat[1, i] = By(xx[_i, _j], yy[_i, _j], z, a1, b1, _z0, 1.0)\n",
        "    B_hat[2, i] = Bz(xx[_i, _j], yy[_i, _j], z, a1, b1, _z0, 1.0)\n",
        "  \n",
        "  return B_hat\n",
        "\n"
      ],
      "execution_count": 117,
      "outputs": []
    },
    {
      "cell_type": "code",
      "metadata": {
        "id": "2mLoLkPQhyoI"
      },
      "source": [
        "# wall size\n",
        "wall_size = 160.0 # cm\n",
        "\n",
        "# number of coils\n",
        "N = 2\n",
        "\n",
        "spacing = 10.0 # cm\n",
        "\n",
        "# square coils, 4x4 grid taking up 1.6m x 1.6m, 160 / 4 - spacing * 3 = \n",
        "a1 = (wall_size / N) - (spacing * (N-1)) # cm\n",
        "b1 = a1 # cm\n",
        "\n",
        "# 1.4m of separation, let the origin be directly at the center\n",
        "sep = 140.0 # cm\n",
        "\n",
        "# test point\n",
        "x_v = np.array([0., 0., 0.])\n",
        "\n",
        "# ambient (measured) field at test point\n",
        "A = np.array([-1., -1., -1.]) * 1e-6\n",
        "\n",
        "# solve BI = -A\n",
        "# B_hat is 3x(N*N*2) matrix, I is (N*N*2)x1 vector, A is 3x1 vector\n",
        "B_hat = get_b_matrix(*x_v, spacing, a1, b1, sep, N)\n",
        "\n",
        "x_np = np.linalg.lstsq(B_hat, -A, rcond=None)[0]"
      ],
      "execution_count": 191,
      "outputs": []
    },
    {
      "cell_type": "code",
      "metadata": {
        "colab": {
          "base_uri": "https://localhost:8080/"
        },
        "id": "sAeLpmt9vu4U",
        "outputId": "2816b666-2435-4d87-ef9c-4eac7944991c"
      },
      "source": [
        "import cvxpy as cp\n",
        "\n",
        "x = cp.Variable(N*N*2)\n",
        "objective = cp.Minimize(cp.norm_inf(B_hat @ x + A))\n",
        "constraints = [-40e-3 <= x, x <= 40e-3]\n",
        "prob = cp.Problem(objective, constraints)\n",
        "\n",
        "# The optimal objective value is returned by `prob.solve()`.\n",
        "result = prob.solve(verbose=True)\n",
        "# The optimal value for x is stored in `x.value`.\n",
        "# print(x.value)\n",
        "# The optimal Lagrange multiplier for a constraint is stored in\n",
        "# `constraint.dual_value`.\n",
        "# print(constraints[0].dual_value)\n",
        "\n",
        "print(B_hat @ np.array(x.value))"
      ],
      "execution_count": 192,
      "outputs": [
        {
          "output_type": "stream",
          "name": "stdout",
          "text": [
            "\n",
            "ECOS 2.0.7 - (C) embotech GmbH, Zurich Switzerland, 2012-15. Web: www.embotech.com/ECOS\n",
            "\n",
            "It     pcost       dcost      gap   pres   dres    k/t    mu     step   sigma     IR    |   BT\n",
            " 0  +2.118e-22  -6.400e-01  +2e+01  8e-01  1e+00  1e+00  1e+00    ---    ---    1  1  - |  -  - \n",
            " 1  +2.319e-03  -1.425e-01  +8e+00  1e-01  1e-01  3e-03  4e-01  0.8129  2e-01   1  1  1 |  0  0\n",
            " 2  +2.047e-03  -5.518e-03  +1e+00  1e-02  8e-03  3e-03  6e-02  0.9890  2e-01   1  1  1 |  0  0\n",
            " 3  +1.214e-06  -8.849e-05  +1e-02  2e-04  1e-04  4e-05  8e-04  0.9872  3e-04   1  1  1 |  0  0\n",
            " 4  +3.994e-08  -1.923e-06  +3e-04  3e-06  2e-06  9e-07  2e-05  0.9782  1e-04   1  1  1 |  0  0\n",
            " 5  +6.596e-07  +2.531e-07  +6e-05  6e-07  3e-07  1e-07  3e-06  0.8775  7e-02   2  2  2 |  0  0\n",
            " 6  +8.930e-07  +8.347e-07  +1e-05  7e-08  4e-08  2e-08  5e-07  0.8701  1e-02   3  3  2 |  0  0\n",
            " 7  +8.900e-07  +8.861e-07  +7e-07  3e-09  2e-09  9e-10  3e-08  0.9660  3e-02   3  2  3 |  0  0\n",
            " 8  +8.917e-07  +8.917e-07  +9e-09  4e-11  4e-11  1e-11  4e-10  0.9877  1e-04   3  2  1 |  0  0\n",
            "\n",
            "OPTIMAL (within feastol=4.1e-11, reltol=9.6e-03, abstol=8.6e-09).\n",
            "Runtime: 0.002105 seconds.\n",
            "\n",
            "[1.08220888e-07 1.08222409e-07 1.00045310e-06]\n"
          ]
        }
      ]
    },
    {
      "cell_type": "code",
      "metadata": {
        "id": "TxwyMsCu8gFl"
      },
      "source": [
        "def solver(x, y, z, coil_spacing, a1, b1, wall_spacing, ambient_field, I_max, N, verbose=False):\n",
        "  I = np.zeros(N*N*2)\n",
        "  B_hat = get_b_matrix(x, y, z, coil_spacing, a1, b1, wall_spacing, N)\n",
        "\n",
        "  residuals = np.zeros(ambient_field.shape)\n",
        "  residuals[:] = ambient_field[:]\n",
        "\n",
        "  iter = 0\n",
        "  while True:\n",
        "    residuals = residuals - (B_hat @ I)\n",
        "\n",
        "    if verbose:\n",
        "      print('Currents:', I)\n",
        "      print('Residuals:', residuals)\n",
        "    \n",
        "    if all(np.isclose(0, residuals)):\n",
        "      break\n",
        "\n",
        "    x = cp.Variable(N*N*2)\n",
        "    objective = cp.Minimize(cp.norm_inf(B_hat @ x - A))\n",
        "    # constraints = [float('-inf') <= x, x <= float('inf')]\n",
        "    constraints = [-I_max - I <= x, x <= I_max - I]\n",
        "    prob = cp.Problem(objective, None)\n",
        "    prob.solve()\n",
        "    I = np.array(x.value)\n",
        "\n",
        "    iter += 1\n",
        "\n",
        "  return I, iter\n"
      ],
      "execution_count": 193,
      "outputs": []
    },
    {
      "cell_type": "code",
      "metadata": {
        "colab": {
          "base_uri": "https://localhost:8080/"
        },
        "id": "BD26CzC3Ci5G",
        "outputId": "44d46dea-8908-4212-f8cb-adcac9d2e7fd"
      },
      "source": [
        "found_current, _ = solver(*x_v, spacing, a1, b1, sep, A, 40e-3, N, verbose=True)\n",
        "\n",
        "print('I =', found_current)"
      ],
      "execution_count": 194,
      "outputs": [
        {
          "output_type": "stream",
          "name": "stdout",
          "text": [
            "Currents: [0. 0. 0. 0. 0. 0. 0. 0.]\n",
            "Residuals: [-1.e-06 -1.e-06 -1.e-06]\n",
            "Currents: [ 0.36956947  0.36956947  0.36944186  0.36944186 -0.36957234 -0.36957234\n",
            " -0.36944038 -0.36944038]\n",
            "Residuals: [ 1.17032638e-11 -1.75441206e-11 -8.22665927e-17]\n",
            "I = [ 0.36956947  0.36956947  0.36944186  0.36944186 -0.36957234 -0.36957234\n",
            " -0.36944038 -0.36944038]\n"
          ]
        }
      ]
    },
    {
      "cell_type": "code",
      "metadata": {
        "id": "vUz2IWqkDV6K"
      },
      "source": [
        ""
      ],
      "execution_count": null,
      "outputs": []
    }
  ]
}